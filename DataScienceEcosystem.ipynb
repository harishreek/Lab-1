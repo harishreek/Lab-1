{
 "cells": [
  {
   "cell_type": "markdown",
   "id": "06b2af28-ad30-4a36-8277-70f907184bbb",
   "metadata": {},
   "source": [
    "# Data Science Tools and Ecosystem"
   ]
  },
  {
   "cell_type": "markdown",
   "id": "171d0ca2-c205-4056-8a3d-651966f89b73",
   "metadata": {},
   "source": [
    "In this notebook, Data Science Tools and Ecosystem are summarized."
   ]
  },
  {
   "cell_type": "markdown",
   "id": "acc0e90e-fc53-49b5-a64d-d54352ab0cc9",
   "metadata": {},
   "source": [
    "**Objectives:**\n",
    "- List popular languages \n",
    "- List commonly used libraries\n",
    "- List common programming environments\n",
    "- Explore evaluating arithmetic expressions"
   ]
  },
  {
   "cell_type": "markdown",
   "id": "5bfb7461-6d10-40a4-aef9-9f606935d941",
   "metadata": {},
   "source": [
    "Some of the popular languages that Data Scientists use are:\n",
    "1. Python\n",
    "2. R\n",
    "3. SQL"
   ]
  },
  {
   "cell_type": "markdown",
   "id": "f907f734-44d2-44e2-9119-4f959f5382a8",
   "metadata": {},
   "source": [
    "Some of the commonly used libraries used by Data Scientists include:\n",
    "1. Pandas\n",
    "2. Numpy\n",
    "3. Matplotlib\n",
    "4. Seaborn\n",
    "5. Scikitlearn\n",
    "6. Keras\n",
    "7. Tensorflow\n",
    "8. Pytorch\n",
    "9. ggplot"
   ]
  },
  {
   "cell_type": "markdown",
   "id": "a7425a66-da0b-4c1b-ac78-6c6c8d082ed2",
   "metadata": {},
   "source": [
    "|Data Science Tools|\n",
    "|:-----:|\n",
    "Jupyter\n",
    "RStudio \n",
    "Spark "
   ]
  },
  {
   "cell_type": "markdown",
   "id": "f30fffe6-2de2-4be0-9df0-838f9f33da5f",
   "metadata": {},
   "source": [
    "### Below are a few examples of evaluating arithmetic expressions in Python"
   ]
  },
  {
   "cell_type": "code",
   "execution_count": 1,
   "id": "9fea13e0-39e8-4ded-b632-292aeb1a2e82",
   "metadata": {},
   "outputs": [
    {
     "data": {
      "text/plain": [
       "17"
      ]
     },
     "execution_count": 1,
     "metadata": {},
     "output_type": "execute_result"
    }
   ],
   "source": [
    "(3*4)+5\n",
    "#This is a simple arithmetic expression to multiply then add integers"
   ]
  },
  {
   "cell_type": "code",
   "execution_count": 2,
   "id": "55363338-d7d8-45d5-be99-dbd300219ff7",
   "metadata": {},
   "outputs": [
    {
     "data": {
      "text/plain": [
       "3.3333333333333335"
      ]
     },
     "execution_count": 2,
     "metadata": {},
     "output_type": "execute_result"
    }
   ],
   "source": [
    "200/60\n",
    "#This will convert 200 minutes to hours by dividing by 60"
   ]
  },
  {
   "cell_type": "markdown",
   "id": "e4b0ec3f-1ab8-440b-b4a2-c75a9af2daac",
   "metadata": {},
   "source": [
    "## Author\n",
    "Harishree Karthikeyasubburaj "
   ]
  },
  {
   "cell_type": "code",
   "execution_count": null,
   "id": "0e108f5f-1cea-48e7-bd6d-b837facac8d0",
   "metadata": {},
   "outputs": [],
   "source": []
  }
 ],
 "metadata": {
  "kernelspec": {
   "display_name": "Python 3 (ipykernel)",
   "language": "python",
   "name": "python3"
  },
  "language_info": {
   "codemirror_mode": {
    "name": "ipython",
    "version": 3
   },
   "file_extension": ".py",
   "mimetype": "text/x-python",
   "name": "python",
   "nbconvert_exporter": "python",
   "pygments_lexer": "ipython3",
   "version": "3.11.9"
  }
 },
 "nbformat": 4,
 "nbformat_minor": 5
}
